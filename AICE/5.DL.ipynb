{
 "cells": [
  {
   "cell_type": "markdown",
   "metadata": {},
   "source": [
    "# 딥러닝\n",
    "## 0. 딥러닝 DNN 모델 프로세스\n",
    "1. 라이브러리 임포트\n",
    "2. 데이터 가져오기\n",
    "3. 탐색적 데이터 분석\n",
    "4. 데이터 전처리(타입변환, Null처리, 더미생성, 특성추출 등)\n",
    "5. Train, Test 분할\n",
    "6. 데이터 정규화\n",
    "7. 모델 개발\n",
    "8. 모델 성능 평가"
   ]
  },
  {
   "cell_type": "markdown",
   "metadata": {},
   "source": [
    "## 1. 라이브러리 임포트"
   ]
  },
  {
   "cell_type": "code",
   "execution_count": 8,
   "metadata": {},
   "outputs": [],
   "source": [
    "import numpy as np\n",
    "import pandas as pd\n",
    "import matplotlib.pyplot as plt"
   ]
  },
  {
   "cell_type": "markdown",
   "metadata": {},
   "source": [
    "## 2. 데이터 로드"
   ]
  },
  {
   "cell_type": "code",
   "execution_count": 9,
   "metadata": {},
   "outputs": [
    {
     "data": {
      "text/html": [
       "<div>\n",
       "<style scoped>\n",
       "    .dataframe tbody tr th:only-of-type {\n",
       "        vertical-align: middle;\n",
       "    }\n",
       "\n",
       "    .dataframe tbody tr th {\n",
       "        vertical-align: top;\n",
       "    }\n",
       "\n",
       "    .dataframe thead th {\n",
       "        text-align: right;\n",
       "    }\n",
       "</style>\n",
       "<table border=\"1\" class=\"dataframe\">\n",
       "  <thead>\n",
       "    <tr style=\"text-align: right;\">\n",
       "      <th></th>\n",
       "      <th>class</th>\n",
       "      <th>sex</th>\n",
       "      <th>age</th>\n",
       "      <th>service</th>\n",
       "      <th>stop</th>\n",
       "      <th>npay</th>\n",
       "      <th>avg_bill</th>\n",
       "      <th>A_bill</th>\n",
       "      <th>B_bill</th>\n",
       "      <th>termination</th>\n",
       "      <th>by_age</th>\n",
       "      <th>bill_rating</th>\n",
       "      <th>low</th>\n",
       "      <th>lowmid</th>\n",
       "      <th>mid</th>\n",
       "      <th>midhigh</th>\n",
       "      <th>high</th>\n",
       "    </tr>\n",
       "  </thead>\n",
       "  <tbody>\n",
       "    <tr>\n",
       "      <th>0</th>\n",
       "      <td>C</td>\n",
       "      <td>F</td>\n",
       "      <td>28</td>\n",
       "      <td>0</td>\n",
       "      <td>N</td>\n",
       "      <td>N</td>\n",
       "      <td>2640.0000</td>\n",
       "      <td>792.00000</td>\n",
       "      <td>1584.0000</td>\n",
       "      <td>Y</td>\n",
       "      <td>25</td>\n",
       "      <td>low</td>\n",
       "      <td>1</td>\n",
       "      <td>0</td>\n",
       "      <td>0</td>\n",
       "      <td>0</td>\n",
       "      <td>0</td>\n",
       "    </tr>\n",
       "    <tr>\n",
       "      <th>1</th>\n",
       "      <td>E</td>\n",
       "      <td>F</td>\n",
       "      <td>24</td>\n",
       "      <td>1</td>\n",
       "      <td>N</td>\n",
       "      <td>N</td>\n",
       "      <td>16840.0000</td>\n",
       "      <td>2526.00000</td>\n",
       "      <td>6983.0000</td>\n",
       "      <td>N</td>\n",
       "      <td>20</td>\n",
       "      <td>high</td>\n",
       "      <td>0</td>\n",
       "      <td>0</td>\n",
       "      <td>0</td>\n",
       "      <td>0</td>\n",
       "      <td>1</td>\n",
       "    </tr>\n",
       "    <tr>\n",
       "      <th>2</th>\n",
       "      <td>F</td>\n",
       "      <td>F</td>\n",
       "      <td>32</td>\n",
       "      <td>1</td>\n",
       "      <td>N</td>\n",
       "      <td>N</td>\n",
       "      <td>15544.7334</td>\n",
       "      <td>2331.71001</td>\n",
       "      <td>6750.4666</td>\n",
       "      <td>N</td>\n",
       "      <td>30</td>\n",
       "      <td>high</td>\n",
       "      <td>0</td>\n",
       "      <td>0</td>\n",
       "      <td>0</td>\n",
       "      <td>0</td>\n",
       "      <td>1</td>\n",
       "    </tr>\n",
       "    <tr>\n",
       "      <th>3</th>\n",
       "      <td>D</td>\n",
       "      <td>M</td>\n",
       "      <td>18</td>\n",
       "      <td>1</td>\n",
       "      <td>N</td>\n",
       "      <td>N</td>\n",
       "      <td>4700.0000</td>\n",
       "      <td>0.00000</td>\n",
       "      <td>4502.0000</td>\n",
       "      <td>N</td>\n",
       "      <td>15</td>\n",
       "      <td>lowmid</td>\n",
       "      <td>0</td>\n",
       "      <td>1</td>\n",
       "      <td>0</td>\n",
       "      <td>0</td>\n",
       "      <td>0</td>\n",
       "    </tr>\n",
       "    <tr>\n",
       "      <th>4</th>\n",
       "      <td>C</td>\n",
       "      <td>F</td>\n",
       "      <td>78</td>\n",
       "      <td>1</td>\n",
       "      <td>N</td>\n",
       "      <td>N</td>\n",
       "      <td>1361.7999</td>\n",
       "      <td>1173.99990</td>\n",
       "      <td>0.0000</td>\n",
       "      <td>N</td>\n",
       "      <td>75</td>\n",
       "      <td>low</td>\n",
       "      <td>1</td>\n",
       "      <td>0</td>\n",
       "      <td>0</td>\n",
       "      <td>0</td>\n",
       "      <td>0</td>\n",
       "    </tr>\n",
       "  </tbody>\n",
       "</table>\n",
       "</div>"
      ],
      "text/plain": [
       "  class sex  age  service stop npay    avg_bill      A_bill     B_bill  \\\n",
       "0     C   F   28        0    N    N   2640.0000   792.00000  1584.0000   \n",
       "1     E   F   24        1    N    N  16840.0000  2526.00000  6983.0000   \n",
       "2     F   F   32        1    N    N  15544.7334  2331.71001  6750.4666   \n",
       "3     D   M   18        1    N    N   4700.0000     0.00000  4502.0000   \n",
       "4     C   F   78        1    N    N   1361.7999  1173.99990     0.0000   \n",
       "\n",
       "  termination  by_age bill_rating  low  lowmid  mid  midhigh  high  \n",
       "0           Y      25         low    1       0    0        0     0  \n",
       "1           N      20        high    0       0    0        0     1  \n",
       "2           N      30        high    0       0    0        0     1  \n",
       "3           N      15      lowmid    0       1    0        0     0  \n",
       "4           N      75         low    1       0    0        0     0  "
      ]
     },
     "execution_count": 9,
     "metadata": {},
     "output_type": "execute_result"
    }
   ],
   "source": [
    "df = pd.read_csv('cust_data.csv')\n",
    "df.head()"
   ]
  },
  {
   "cell_type": "markdown",
   "metadata": {},
   "source": [
    "## 3. 데이터 분석 및 전처리"
   ]
  },
  {
   "cell_type": "code",
   "execution_count": 10,
   "metadata": {},
   "outputs": [
    {
     "name": "stdout",
     "output_type": "stream",
     "text": [
      "<class 'pandas.core.frame.DataFrame'>\n",
      "RangeIndex: 8753 entries, 0 to 8752\n",
      "Data columns (total 12 columns):\n",
      " #   Column       Non-Null Count  Dtype  \n",
      "---  ------       --------------  -----  \n",
      " 0   class        7827 non-null   object \n",
      " 1   sex          8753 non-null   object \n",
      " 2   age          8753 non-null   int64  \n",
      " 3   service      8753 non-null   int64  \n",
      " 4   stop         8753 non-null   object \n",
      " 5   npay         8753 non-null   object \n",
      " 6   avg_bill     8753 non-null   float64\n",
      " 7   A_bill       8753 non-null   float64\n",
      " 8   B_bill       8753 non-null   float64\n",
      " 9   termination  8753 non-null   object \n",
      " 10  by_age       8753 non-null   int64  \n",
      " 11  bill_rating  8753 non-null   object \n",
      "dtypes: float64(3), int64(3), object(6)\n",
      "memory usage: 820.7+ KB\n"
     ]
    }
   ],
   "source": [
    "df = df.drop(columns=['low','lowmid','mid','midhigh','high'])\n",
    "df.info()"
   ]
  },
  {
   "cell_type": "code",
   "execution_count": 11,
   "metadata": {},
   "outputs": [
    {
     "data": {
      "text/plain": [
       "<Axes: xlabel='termination'>"
      ]
     },
     "execution_count": 11,
     "metadata": {},
     "output_type": "execute_result"
    },
    {
     "data": {
      "image/png": "[encoded data removed]",
      "text/plain": [
       "<Figure size 640x480 with 1 Axes>"
      ]
     },
     "metadata": {},
     "output_type": "display_data"
    }
   ],
   "source": [
    "df['termination'].value_counts().plot(kind='bar') # 데이터 불균형;;"
   ]
  },
  {
   "cell_type": "code",
   "execution_count": 12,
   "metadata": {},
   "outputs": [
    {
     "data": {
      "text/plain": [
       "Index(['age', 'service', 'avg_bill', 'A_bill', 'B_bill', 'by_age', 'class_C',\n",
       "       'class_D', 'class_E', 'class_F', 'class_G', 'class_H', 'sex_F', 'sex_M',\n",
       "       'stop_N', 'stop_Y', 'npay_N', 'npay_Y', 'termination_N',\n",
       "       'termination_Y', 'bill_rating_high', 'bill_rating_low',\n",
       "       'bill_rating_lowmid', 'bill_rating_mid', 'bill_rating_midhigh'],\n",
       "      dtype='object')"
      ]
     },
     "execution_count": 12,
     "metadata": {},
     "output_type": "execute_result"
    }
   ],
   "source": [
    "cal_cols = ['class', 'sex', 'stop', 'npay', 'termination', 'bill_rating']\n",
    "df1 = pd.get_dummies(data=df,columns=cal_cols)\n",
    "df1.shape\n",
    "df1.columns"
   ]
  },
  {
   "cell_type": "markdown",
   "metadata": {},
   "source": [
    "## 4. split"
   ]
  },
  {
   "cell_type": "code",
   "execution_count": 13,
   "metadata": {},
   "outputs": [],
   "source": [
    "from sklearn.model_selection import train_test_split"
   ]
  },
  {
   "cell_type": "code",
   "execution_count": 14,
   "metadata": {},
   "outputs": [
    {
     "name": "stdout",
     "output_type": "stream",
     "text": [
      "(8753, 24)\n",
      "(8753,)\n",
      "(7002, 24)\n",
      "(1751, 24)\n",
      "(7002,)\n",
      "(1751,)\n"
     ]
    }
   ],
   "source": [
    "X = df1.drop(['termination_Y'],axis=1)\n",
    "y = df1['termination_Y']\n",
    "print(X.shape)\n",
    "print(y.shape)\n",
    "X_train,X_test,y_train,y_test = train_test_split(X,y,random_state = 42, test_size = 0.2)\n",
    "print(X_train.shape)\n",
    "print(X_test.shape)\n",
    "print(y_train.shape)\n",
    "print(y_test.shape)"
   ]
  },
  {
   "cell_type": "markdown",
   "metadata": {},
   "source": [
    "## 5. 데이터 정규화/스케일링"
   ]
  },
  {
   "cell_type": "code",
   "execution_count": 15,
   "metadata": {},
   "outputs": [],
   "source": [
    "from sklearn.preprocessing import MinMaxScaler\n",
    "scaler = MinMaxScaler()\n",
    "X_train = scaler.fit_transform(X_train)\n",
    "X_test = scaler.transform(X_test)"
   ]
  },
  {
   "cell_type": "code",
   "execution_count": 16,
   "metadata": {},
   "outputs": [
    {
     "name": "stdout",
     "output_type": "stream",
     "text": [
      "e:\\anaconda3\\envs\\aice\\python.exe\n",
      "C:\\Users\\User\\AppData\\Local\\Programs\\Python\\Python312\\python.exe\n",
      "C:\\Users\\User\\AppData\\Local\\Microsoft\\WindowsApps\\python.exe\n",
      "E:\\anaconda3\\python.exe\n"
     ]
    }
   ],
   "source": [
    "!where python"
   ]
  },
  {
   "cell_type": "code",
   "execution_count": 17,
   "metadata": {},
   "outputs": [
    {
     "name": "stdout",
     "output_type": "stream",
     "text": [
      "e:\\anaconda3\\envs\\aice\\python.exe\n"
     ]
    }
   ],
   "source": [
    "import sys\n",
    "print(sys.executable)"
   ]
  },
  {
   "cell_type": "markdown",
   "metadata": {},
   "source": [
    "## 6. 딥러닝 심층신경망(DNN) 모델 구현"
   ]
  },
  {
   "cell_type": "markdown",
   "metadata": {},
   "source": [
    "### 라이브러리 임포트"
   ]
  },
  {
   "cell_type": "code",
   "execution_count": 18,
   "metadata": {},
   "outputs": [],
   "source": [
    "import tensorflow as tf\n",
    "from tensorflow.keras.models import Sequential\n",
    "from tensorflow.keras.layers import Dense,Activation,Dropout"
   ]
  },
  {
   "cell_type": "markdown",
   "metadata": {},
   "source": [
    "### 하이퍼파라미터 설정"
   ]
  },
  {
   "cell_type": "code",
   "execution_count": 19,
   "metadata": {},
   "outputs": [],
   "source": [
    "batch_size = 16\n",
    "epochs = 20"
   ]
  },
  {
   "cell_type": "code",
   "execution_count": 20,
   "metadata": {},
   "outputs": [
    {
     "data": {
      "text/plain": [
       "(7002, 24)"
      ]
     },
     "execution_count": 20,
     "metadata": {},
     "output_type": "execute_result"
    }
   ],
   "source": [
    "X_train.shape"
   ]
  },
  {
   "cell_type": "markdown",
   "metadata": {},
   "source": [
    "### A. 이진분류 DNN모델 구성"
   ]
  },
  {
   "cell_type": "code",
   "execution_count": 21,
   "metadata": {},
   "outputs": [
    {
     "name": "stdout",
     "output_type": "stream",
     "text": [
      "Model: \"sequential\"\n",
      "_________________________________________________________________\n",
      " Layer (type)                Output Shape              Param #   \n",
      "=================================================================\n",
      " dense (Dense)               (None, 4)                 100       \n",
      "                                                                 \n",
      " dense_1 (Dense)             (None, 2)                 10        \n",
      "                                                                 \n",
      " dense_2 (Dense)             (None, 1)                 3         \n",
      "                                                                 \n",
      "=================================================================\n",
      "Total params: 113\n",
      "Trainable params: 113\n",
      "Non-trainable params: 0\n",
      "_________________________________________________________________\n"
     ]
    }
   ],
   "source": [
    "model = Sequential()\n",
    "model.add(Dense(4, activation = 'relu', input_shape = (24,)))\n",
    "model.add(Dense(2, activation = 'relu'))\n",
    "model.add(Dense(1, activation = 'sigmoid'))\n",
    "model.summary()"
   ]
  },
  {
   "cell_type": "markdown",
   "metadata": {},
   "source": [
    "### 모델 구성(dropout 추가)"
   ]
  },
  {
   "cell_type": "code",
   "execution_count": 22,
   "metadata": {},
   "outputs": [
    {
     "name": "stdout",
     "output_type": "stream",
     "text": [
      "Model: \"sequential_1\"\n",
      "_________________________________________________________________\n",
      " Layer (type)                Output Shape              Param #   \n",
      "=================================================================\n",
      " dense_3 (Dense)             (None, 4)                 100       \n",
      "                                                                 \n",
      " dropout (Dropout)           (None, 4)                 0         \n",
      "                                                                 \n",
      " dense_4 (Dense)             (None, 2)                 10        \n",
      "                                                                 \n",
      " dropout_1 (Dropout)         (None, 2)                 0         \n",
      "                                                                 \n",
      " dense_5 (Dense)             (None, 1)                 3         \n",
      "                                                                 \n",
      "=================================================================\n",
      "Total params: 113\n",
      "Trainable params: 113\n",
      "Non-trainable params: 0\n",
      "_________________________________________________________________\n"
     ]
    }
   ],
   "source": [
    "model = Sequential()\n",
    "model.add(Dense(4,activation='relu',input_shape = (24,)))\n",
    "model.add(Dropout(0.3))\n",
    "model.add(Dense(2,activation='relu'))\n",
    "model.add(Dropout(0.3))\n",
    "model.add(Dense(1,activation='sigmoid'))\n",
    "model.summary()"
   ]
  },
  {
   "cell_type": "markdown",
   "metadata": {},
   "source": [
    "- 모델 컴파일 : 이진 분류 <br>\n",
    "```\n",
    "model.compile(optimizer = 'adam',\n",
    "                loss = 'binary_crossentropy',\n",
    "                metrics = ['accuracy'])\n",
    "```\n",
    "- 모델 컴파일 : 다중 분류 모델(y 원핫인코딩 X)<br>\n",
    "```\n",
    "model.compile(optimizer = 'adam',\n",
    "                loss = 'sparse_categorical_crossentropy',\n",
    "                metrics = ['accuracy'])\n",
    "```\n",
    "- 모델 컴파일 : 다중 분류 모델(y 원핫인코딩 O)<br>\n",
    "```\n",
    "model.compile(optimizer = 'adam',\n",
    "                loss = 'categorical_crossentropy,\n",
    "                metrics = ['accuracy'])\n",
    "```\n",
    "- 모델 컴파일 : 회귀 모델<br>\n",
    "```\n",
    "model.compile(optimizer = 'adam',\n",
    "                loss = 'mse')\n",
    "```"
   ]
  },
  {
   "cell_type": "code",
   "execution_count": 23,
   "metadata": {},
   "outputs": [],
   "source": [
    "model.compile(optimizer = 'adam',\n",
    "              loss = 'binary_crossentropy',\n",
    "              metrics = ['accuracy'])"
   ]
  },
  {
   "cell_type": "code",
   "execution_count": 24,
   "metadata": {},
   "outputs": [
    {
     "name": "stdout",
     "output_type": "stream",
     "text": [
      "Epoch 1/10\n",
      "701/701 [==============================] - 2s 2ms/step - loss: 0.4831 - accuracy: 0.8827 - val_loss: 0.3329 - val_accuracy: 0.8846\n",
      "Epoch 2/10\n",
      "701/701 [==============================] - 1s 1ms/step - loss: 0.3417 - accuracy: 0.8866 - val_loss: 0.2143 - val_accuracy: 0.8846\n",
      "Epoch 3/10\n",
      "701/701 [==============================] - 1s 1ms/step - loss: 0.2908 - accuracy: 0.8866 - val_loss: 0.1842 - val_accuracy: 0.8846\n",
      "Epoch 4/10\n",
      "701/701 [==============================] - 1s 1ms/step - loss: 0.2789 - accuracy: 0.8866 - val_loss: 0.1748 - val_accuracy: 0.8846\n",
      "Epoch 5/10\n",
      "701/701 [==============================] - 1s 1ms/step - loss: 0.2621 - accuracy: 0.8866 - val_loss: 0.1643 - val_accuracy: 0.8846\n",
      "Epoch 6/10\n",
      "701/701 [==============================] - 1s 1ms/step - loss: 0.2482 - accuracy: 0.8959 - val_loss: 0.1600 - val_accuracy: 0.8846\n",
      "Epoch 7/10\n",
      "701/701 [==============================] - 1s 1ms/step - loss: 0.1984 - accuracy: 0.9350 - val_loss: 0.0435 - val_accuracy: 1.0000\n",
      "Epoch 8/10\n",
      "701/701 [==============================] - 1s 1ms/step - loss: 0.1791 - accuracy: 0.9406 - val_loss: 0.0276 - val_accuracy: 1.0000\n",
      "Epoch 9/10\n",
      "701/701 [==============================] - 1s 2ms/step - loss: 0.1761 - accuracy: 0.9393 - val_loss: 0.0201 - val_accuracy: 1.0000\n",
      "Epoch 10/10\n",
      "701/701 [==============================] - 1s 2ms/step - loss: 0.1689 - accuracy: 0.9420 - val_loss: 0.0164 - val_accuracy: 1.0000\n"
     ]
    },
    {
     "data": {
      "text/plain": [
       "<keras.callbacks.History at 0x197436130d0>"
      ]
     },
     "execution_count": 24,
     "metadata": {},
     "output_type": "execute_result"
    }
   ],
   "source": [
    "model.fit(X_train, y_train,\n",
    "          validation_data = (X_test, y_test),\n",
    "          epochs = 10,\n",
    "          batch_size = 10)"
   ]
  },
  {
   "cell_type": "markdown",
   "metadata": {},
   "source": [
    "### B. 다중 분류 DNN 구성"
   ]
  },
  {
   "cell_type": "code",
   "execution_count": 29,
   "metadata": {},
   "outputs": [],
   "source": [
    "model = Sequential()\n",
    "model.add(Dense(8,activation = 'relu',input_shape = (24,)))\n",
    "model.add(Dropout(0.3))\n",
    "model.add(Dense(4,activation = 'relu'))\n",
    "model.add(Dropout(0.3))\n",
    "model.add(Dense(2,activation = 'softmax'))"
   ]
  },
  {
   "cell_type": "code",
   "execution_count": 30,
   "metadata": {},
   "outputs": [
    {
     "name": "stdout",
     "output_type": "stream",
     "text": [
      "Model: \"sequential_3\"\n",
      "_________________________________________________________________\n",
      " Layer (type)                Output Shape              Param #   \n",
      "=================================================================\n",
      " dense_9 (Dense)             (None, 8)                 200       \n",
      "                                                                 \n",
      " dropout_4 (Dropout)         (None, 8)                 0         \n",
      "                                                                 \n",
      " dense_10 (Dense)            (None, 4)                 36        \n",
      "                                                                 \n",
      " dropout_5 (Dropout)         (None, 4)                 0         \n",
      "                                                                 \n",
      " dense_11 (Dense)            (None, 2)                 10        \n",
      "                                                                 \n",
      "=================================================================\n",
      "Total params: 246\n",
      "Trainable params: 246\n",
      "Non-trainable params: 0\n",
      "_________________________________________________________________\n"
     ]
    }
   ],
   "source": [
    "model.summary()"
   ]
  },
  {
   "cell_type": "code",
   "execution_count": 31,
   "metadata": {},
   "outputs": [],
   "source": [
    "model.compile(optimizer = 'adam',\n",
    "              loss = 'sparse_categorical_crossentropy',\n",
    "              metrics = ['accuracy'])"
   ]
  },
  {
   "cell_type": "code",
   "execution_count": 32,
   "metadata": {},
   "outputs": [
    {
     "name": "stdout",
     "output_type": "stream",
     "text": [
      "Epoch 1/20\n",
      "438/438 [==============================] - 1s 2ms/step - loss: 0.3984 - accuracy: 0.8573 - val_loss: 0.2020 - val_accuracy: 0.8846\n",
      "Epoch 2/20\n",
      "438/438 [==============================] - 1s 1ms/step - loss: 0.2138 - accuracy: 0.9113 - val_loss: 0.0855 - val_accuracy: 0.9714\n",
      "Epoch 3/20\n",
      "438/438 [==============================] - 1s 1ms/step - loss: 0.1340 - accuracy: 0.9434 - val_loss: 0.0247 - val_accuracy: 1.0000\n",
      "Epoch 4/20\n",
      "438/438 [==============================] - 1s 1ms/step - loss: 0.0982 - accuracy: 0.9544 - val_loss: 0.0089 - val_accuracy: 1.0000\n",
      "Epoch 5/20\n",
      "438/438 [==============================] - 1s 1ms/step - loss: 0.0882 - accuracy: 0.9610 - val_loss: 0.0040 - val_accuracy: 1.0000\n",
      "Epoch 6/20\n",
      "438/438 [==============================] - 1s 1ms/step - loss: 0.0682 - accuracy: 0.9760 - val_loss: 5.9137e-04 - val_accuracy: 1.0000\n",
      "Epoch 7/20\n",
      "438/438 [==============================] - 1s 1ms/step - loss: 0.0552 - accuracy: 0.9807 - val_loss: 1.2000e-04 - val_accuracy: 1.0000\n",
      "Epoch 8/20\n",
      "438/438 [==============================] - 1s 1ms/step - loss: 0.0508 - accuracy: 0.9827 - val_loss: 4.5166e-05 - val_accuracy: 1.0000\n",
      "Epoch 9/20\n",
      "438/438 [==============================] - 1s 1ms/step - loss: 0.0478 - accuracy: 0.9820 - val_loss: 1.9296e-05 - val_accuracy: 1.0000\n",
      "Epoch 10/20\n",
      "438/438 [==============================] - 1s 1ms/step - loss: 0.0450 - accuracy: 0.9846 - val_loss: 1.0274e-05 - val_accuracy: 1.0000\n",
      "Epoch 11/20\n",
      "438/438 [==============================] - 1s 1ms/step - loss: 0.0367 - accuracy: 0.9881 - val_loss: 4.8800e-06 - val_accuracy: 1.0000\n",
      "Epoch 12/20\n",
      "438/438 [==============================] - 1s 1ms/step - loss: 0.0421 - accuracy: 0.9839 - val_loss: 4.4510e-06 - val_accuracy: 1.0000\n",
      "Epoch 13/20\n",
      "438/438 [==============================] - 1s 1ms/step - loss: 0.0408 - accuracy: 0.9854 - val_loss: 1.1129e-06 - val_accuracy: 1.0000\n",
      "Epoch 14/20\n",
      "438/438 [==============================] - 1s 1ms/step - loss: 0.0396 - accuracy: 0.9866 - val_loss: 3.6021e-07 - val_accuracy: 1.0000\n",
      "Epoch 15/20\n",
      "438/438 [==============================] - 1s 1ms/step - loss: 0.0384 - accuracy: 0.9869 - val_loss: 2.3522e-07 - val_accuracy: 1.0000\n",
      "Epoch 16/20\n",
      "438/438 [==============================] - 1s 1ms/step - loss: 0.0416 - accuracy: 0.9857 - val_loss: 1.3875e-07 - val_accuracy: 1.0000\n",
      "Epoch 17/20\n",
      "438/438 [==============================] - 1s 1ms/step - loss: 0.0353 - accuracy: 0.9871 - val_loss: 2.3760e-08 - val_accuracy: 1.0000\n",
      "Epoch 18/20\n",
      "438/438 [==============================] - 1s 1ms/step - loss: 0.0384 - accuracy: 0.9873 - val_loss: 2.2262e-08 - val_accuracy: 1.0000\n",
      "Epoch 19/20\n",
      "438/438 [==============================] - 1s 1ms/step - loss: 0.0389 - accuracy: 0.9871 - val_loss: 2.7709e-08 - val_accuracy: 1.0000\n",
      "Epoch 20/20\n",
      "438/438 [==============================] - 1s 1ms/step - loss: 0.0402 - accuracy: 0.9866 - val_loss: 5.9911e-09 - val_accuracy: 1.0000\n"
     ]
    }
   ],
   "source": [
    "history = model.fit(X_train,y_train,\n",
    "                    validation_data = (X_test,y_test),\n",
    "                    epochs = 20,\n",
    "                    batch_size = 16)"
   ]
  },
  {
   "cell_type": "markdown",
   "metadata": {},
   "source": [
    "### Callback : 조기종료, 모델 저장"
   ]
  },
  {
   "cell_type": "code",
   "execution_count": 33,
   "metadata": {},
   "outputs": [],
   "source": [
    "from tensorflow.keras.callbacks import EarlyStopping, ModelCheckpoint"
   ]
  },
  {
   "cell_type": "code",
   "execution_count": 35,
   "metadata": {},
   "outputs": [],
   "source": [
    "early_stop = EarlyStopping(monitor = 'val_loss', mode = 'min',\n",
    "                           verbose = 1, patience = 5)"
   ]
  },
  {
   "cell_type": "code",
   "execution_count": 36,
   "metadata": {},
   "outputs": [],
   "source": [
    "check_point = ModelCheckpoint('best_model.keras',verbose=1,\n",
    "                              monitor = 'val_loss',mode=  'min',\n",
    "                              save_best_only=True)"
   ]
  },
  {
   "cell_type": "code",
   "execution_count": 37,
   "metadata": {},
   "outputs": [
    {
     "name": "stdout",
     "output_type": "stream",
     "text": [
      "Epoch 1/50\n",
      "397/438 [==========================>...] - ETA: 0s - loss: 0.0442 - accuracy: 0.9841\n",
      "Epoch 1: val_loss improved from inf to 0.00000, saving model to best_model.keras\n",
      "438/438 [==============================] - 1s 2ms/step - loss: 0.0444 - accuracy: 0.9841 - val_loss: 3.6083e-09 - val_accuracy: 1.0000\n",
      "Epoch 2/50\n",
      "394/438 [=========================>....] - ETA: 0s - loss: 0.0368 - accuracy: 0.9881\n",
      "Epoch 2: val_loss improved from 0.00000 to 0.00000, saving model to best_model.keras\n",
      "438/438 [==============================] - 1s 1ms/step - loss: 0.0363 - accuracy: 0.9883 - val_loss: 2.1786e-09 - val_accuracy: 1.0000\n",
      "Epoch 3/50\n",
      "435/438 [============================>.] - ETA: 0s - loss: 0.0378 - accuracy: 0.9868\n",
      "Epoch 3: val_loss improved from 0.00000 to 0.00000, saving model to best_model.keras\n",
      "438/438 [==============================] - 1s 1ms/step - loss: 0.0376 - accuracy: 0.9869 - val_loss: 4.0848e-10 - val_accuracy: 1.0000\n",
      "Epoch 4/50\n",
      "426/438 [============================>.] - ETA: 0s - loss: 0.0376 - accuracy: 0.9877\n",
      "Epoch 4: val_loss improved from 0.00000 to 0.00000, saving model to best_model.keras\n",
      "438/438 [==============================] - 1s 1ms/step - loss: 0.0374 - accuracy: 0.9877 - val_loss: 2.0424e-10 - val_accuracy: 1.0000\n",
      "Epoch 5/50\n",
      "421/438 [===========================>..] - ETA: 0s - loss: 0.0403 - accuracy: 0.9856\n",
      "Epoch 5: val_loss improved from 0.00000 to 0.00000, saving model to best_model.keras\n",
      "438/438 [==============================] - 1s 2ms/step - loss: 0.0399 - accuracy: 0.9859 - val_loss: 6.8081e-11 - val_accuracy: 1.0000\n",
      "Epoch 6/50\n",
      "425/438 [============================>.] - ETA: 0s - loss: 0.0376 - accuracy: 0.9869\n",
      "Epoch 6: val_loss did not improve from 0.00000\n",
      "438/438 [==============================] - 1s 1ms/step - loss: 0.0370 - accuracy: 0.9873 - val_loss: 3.4040e-10 - val_accuracy: 1.0000\n",
      "Epoch 7/50\n",
      "398/438 [==========================>...] - ETA: 0s - loss: 0.0348 - accuracy: 0.9885\n",
      "Epoch 7: val_loss improved from 0.00000 to 0.00000, saving model to best_model.keras\n",
      "438/438 [==============================] - 1s 2ms/step - loss: 0.0349 - accuracy: 0.9883 - val_loss: 0.0000e+00 - val_accuracy: 1.0000\n",
      "Epoch 8/50\n",
      "426/438 [============================>.] - ETA: 0s - loss: 0.0372 - accuracy: 0.9872\n",
      "Epoch 8: val_loss did not improve from 0.00000\n",
      "438/438 [==============================] - 1s 1ms/step - loss: 0.0376 - accuracy: 0.9871 - val_loss: 0.0000e+00 - val_accuracy: 1.0000\n",
      "Epoch 9/50\n",
      "391/438 [=========================>....] - ETA: 0s - loss: 0.0352 - accuracy: 0.9883\n",
      "Epoch 9: val_loss did not improve from 0.00000\n",
      "438/438 [==============================] - 1s 1ms/step - loss: 0.0358 - accuracy: 0.9880 - val_loss: 0.0000e+00 - val_accuracy: 1.0000\n",
      "Epoch 10/50\n",
      "426/438 [============================>.] - ETA: 0s - loss: 0.0334 - accuracy: 0.9890\n",
      "Epoch 10: val_loss did not improve from 0.00000\n",
      "438/438 [==============================] - 1s 1ms/step - loss: 0.0328 - accuracy: 0.9893 - val_loss: 0.0000e+00 - val_accuracy: 1.0000\n",
      "Epoch 11/50\n",
      "424/438 [============================>.] - ETA: 0s - loss: 0.0391 - accuracy: 0.9866\n",
      "Epoch 11: val_loss did not improve from 0.00000\n",
      "438/438 [==============================] - 1s 1ms/step - loss: 0.0385 - accuracy: 0.9869 - val_loss: 0.0000e+00 - val_accuracy: 1.0000\n",
      "Epoch 12/50\n",
      "412/438 [===========================>..] - ETA: 0s - loss: 0.0347 - accuracy: 0.9885\n",
      "Epoch 12: val_loss did not improve from 0.00000\n",
      "438/438 [==============================] - 1s 1ms/step - loss: 0.0338 - accuracy: 0.9889 - val_loss: 0.0000e+00 - val_accuracy: 1.0000\n",
      "Epoch 12: early stopping\n"
     ]
    }
   ],
   "source": [
    "history = model.fit(X_train,y_train,\n",
    "                    epochs = 50, batch_size = 16,\n",
    "                    validation_data = (X_test,y_test),\n",
    "                    verbose = 1,\n",
    "                    callbacks = [early_stop,check_point])\n"
   ]
  },
  {
   "cell_type": "markdown",
   "metadata": {},
   "source": [
    "### 모델 성능 평가"
   ]
  },
  {
   "cell_type": "code",
   "execution_count": 38,
   "metadata": {},
   "outputs": [],
   "source": [
    "model.load_weights('best_model.keras')"
   ]
  },
  {
   "cell_type": "code",
   "execution_count": 39,
   "metadata": {},
   "outputs": [
    {
     "name": "stdout",
     "output_type": "stream",
     "text": [
      "55/55 [==============================] - 0s 1ms/step - loss: 0.0000e+00 - accuracy: 1.0000\n"
     ]
    },
    {
     "data": {
      "text/plain": [
       "[0.0, 1.0]"
      ]
     },
     "execution_count": 39,
     "metadata": {},
     "output_type": "execute_result"
    }
   ],
   "source": [
    "model.evaluate(X_test,y_test)"
   ]
  },
  {
   "cell_type": "markdown",
   "metadata": {},
   "source": [
    "#### 성능 시각화"
   ]
  },
  {
   "cell_type": "code",
   "execution_count": 40,
   "metadata": {},
   "outputs": [],
   "source": [
    "losses = pd.DataFrame(history.history)"
   ]
  },
  {
   "cell_type": "code",
   "execution_count": 41,
   "metadata": {},
   "outputs": [
    {
     "data": {
      "text/html": [
       "<div>\n",
       "<style scoped>\n",
       "    .dataframe tbody tr th:only-of-type {\n",
       "        vertical-align: middle;\n",
       "    }\n",
       "\n",
       "    .dataframe tbody tr th {\n",
       "        vertical-align: top;\n",
       "    }\n",
       "\n",
       "    .dataframe thead th {\n",
       "        text-align: right;\n",
       "    }\n",
       "</style>\n",
       "<table border=\"1\" class=\"dataframe\">\n",
       "  <thead>\n",
       "    <tr style=\"text-align: right;\">\n",
       "      <th></th>\n",
       "      <th>loss</th>\n",
       "      <th>accuracy</th>\n",
       "      <th>val_loss</th>\n",
       "      <th>val_accuracy</th>\n",
       "    </tr>\n",
       "  </thead>\n",
       "  <tbody>\n",
       "    <tr>\n",
       "      <th>0</th>\n",
       "      <td>0.044370</td>\n",
       "      <td>0.984147</td>\n",
       "      <td>3.608276e-09</td>\n",
       "      <td>1.0</td>\n",
       "    </tr>\n",
       "    <tr>\n",
       "      <th>1</th>\n",
       "      <td>0.036302</td>\n",
       "      <td>0.988289</td>\n",
       "      <td>2.178582e-09</td>\n",
       "      <td>1.0</td>\n",
       "    </tr>\n",
       "    <tr>\n",
       "      <th>2</th>\n",
       "      <td>0.037594</td>\n",
       "      <td>0.986861</td>\n",
       "      <td>4.084841e-10</td>\n",
       "      <td>1.0</td>\n",
       "    </tr>\n",
       "    <tr>\n",
       "      <th>3</th>\n",
       "      <td>0.037404</td>\n",
       "      <td>0.987718</td>\n",
       "      <td>2.042421e-10</td>\n",
       "      <td>1.0</td>\n",
       "    </tr>\n",
       "    <tr>\n",
       "      <th>4</th>\n",
       "      <td>0.039944</td>\n",
       "      <td>0.985861</td>\n",
       "      <td>6.808069e-11</td>\n",
       "      <td>1.0</td>\n",
       "    </tr>\n",
       "  </tbody>\n",
       "</table>\n",
       "</div>"
      ],
      "text/plain": [
       "       loss  accuracy      val_loss  val_accuracy\n",
       "0  0.044370  0.984147  3.608276e-09           1.0\n",
       "1  0.036302  0.988289  2.178582e-09           1.0\n",
       "2  0.037594  0.986861  4.084841e-10           1.0\n",
       "3  0.037404  0.987718  2.042421e-10           1.0\n",
       "4  0.039944  0.985861  6.808069e-11           1.0"
      ]
     },
     "execution_count": 41,
     "metadata": {},
     "output_type": "execute_result"
    }
   ],
   "source": [
    "losses.head()"
   ]
  },
  {
   "cell_type": "code",
   "execution_count": 42,
   "metadata": {},
   "outputs": [
    {
     "data": {
      "text/plain": [
       "<Axes: >"
      ]
     },
     "execution_count": 42,
     "metadata": {},
     "output_type": "execute_result"
    },
    {
     "data": {
      "image/png": "[encoded data removed]",
      "text/plain": [
       "<Figure size 640x480 with 1 Axes>"
      ]
     },
     "metadata": {},
     "output_type": "display_data"
    }
   ],
   "source": [
    "losses[['loss','val_loss']].plot()"
   ]
  },
  {
   "cell_type": "code",
   "execution_count": 43,
   "metadata": {},
   "outputs": [
    {
     "data": {
      "text/plain": [
       "<Axes: >"
      ]
     },
     "execution_count": 43,
     "metadata": {},
     "output_type": "execute_result"
    },
    {
     "data": {
      "image/png": "[encoded data removed]",
      "text/plain": [
       "<Figure size 640x480 with 1 Axes>"
      ]
     },
     "metadata": {},
     "output_type": "display_data"
    }
   ],
   "source": [
    "losses[['loss','val_loss','accuracy','val_accuracy']].plot()"
   ]
  },
  {
   "cell_type": "code",
   "execution_count": 44,
   "metadata": {},
   "outputs": [
    {
     "data": {
      "image/png": "[encoded data removed]",
      "text/plain": [
       "<Figure size 640x480 with 1 Axes>"
      ]
     },
     "metadata": {},
     "output_type": "display_data"
    }
   ],
   "source": [
    "plt.plot(history.history['accuracy'])\n",
    "plt.plot(history.history['val_accuracy'])\n",
    "plt.title('Accuracy')\n",
    "plt.xlabel('Epochs')\n",
    "plt.ylabel('Acc')\n",
    "plt.legend(['acc', 'val_acc'])\n",
    "plt.show()"
   ]
  },
  {
   "cell_type": "code",
   "execution_count": null,
   "metadata": {},
   "outputs": [],
   "source": []
  }
 ],
 "metadata": {
  "kernelspec": {
   "display_name": "aice",
   "language": "python",
   "name": "python3"
  },
  "language_info": {
   "codemirror_mode": {
    "name": "ipython",
    "version": 3
   },
   "file_extension": ".py",
   "mimetype": "text/x-python",
   "name": "python",
   "nbconvert_exporter": "python",
   "pygments_lexer": "ipython3",
   "version": "3.10.13"
  }
 },
 "nbformat": 4,
 "nbformat_minor": 2
}
